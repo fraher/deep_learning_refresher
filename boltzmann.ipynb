{
 "cells": [
  {
   "cell_type": "markdown",
   "id": "813c7ef6-4449-4e0a-b38b-9364ded753bc",
   "metadata": {},
   "source": [
    "# Boltzmann Machines"
   ]
  },
  {
   "cell_type": "markdown",
   "id": "278c6975-6dca-4a92-81e4-5ef9cda634c9",
   "metadata": {},
   "source": [
    "Two cases here: \n",
    "1. One is if a user will like a product or not (Yes/No)\n",
    "2. The second is what the user would rate the product\n",
    "\n",
    "These are the most common uses in practice.\n",
    "\n",
    "Using the [MovieLens](https://grouplens.org/datasets/movielens/) dataset"
   ]
  },
  {
   "cell_type": "markdown",
   "id": "0a334f24-83a7-42d0-8514-f2289db1e5dd",
   "metadata": {},
   "source": [
    "## Importing the Libraries"
   ]
  },
  {
   "cell_type": "code",
   "execution_count": 1,
   "id": "db254500-09bc-41be-b1e6-8087bd8d86ac",
   "metadata": {},
   "outputs": [],
   "source": [
    "import numpy as np\n",
    "import pandas as pd\n",
    "import torch\n",
    "import torch.nn as nn\n",
    "import torch.nn.parallel\n",
    "import torch.optim as optim\n",
    "import torch.utils.data\n",
    "from torch.autograd import Variable"
   ]
  },
  {
   "cell_type": "markdown",
   "id": "52b9da9b-4516-42f1-9bd4-c147513fc79a",
   "metadata": {},
   "source": [
    "## Data Preprocessing"
   ]
  },
  {
   "cell_type": "code",
   "execution_count": 2,
   "id": "c59ec16c-1a3a-443b-96df-d8c7b2d3906e",
   "metadata": {},
   "outputs": [],
   "source": [
    "movies = pd.read_csv('data/rbm/ml-1m/movies.dat', sep = '::', header = None, engine = 'python', encoding = 'latin-1') # :: is the separator in the file"
   ]
  },
  {
   "cell_type": "code",
   "execution_count": 3,
   "id": "cc78f4a6-8304-4296-8f1e-b6392bb20454",
   "metadata": {},
   "outputs": [],
   "source": [
    "users = pd.read_csv('data/rbm/ml-1m/users.dat', sep = '::', header = None, engine = 'python', encoding = 'latin-1') # :: is the separator in the file"
   ]
  },
  {
   "cell_type": "code",
   "execution_count": 4,
   "id": "9df7e55b-4e5f-4d11-8c00-9443d03dad4a",
   "metadata": {},
   "outputs": [],
   "source": [
    "ratings = pd.read_csv('data/rbm/ml-1m/ratings.dat', sep = '::', header = None, engine = 'python', encoding = 'latin-1')"
   ]
  },
  {
   "cell_type": "markdown",
   "id": "771f9303-85b2-408d-96d6-f1a729f12c58",
   "metadata": {},
   "source": [
    "### Create the training and test sets"
   ]
  },
  {
   "cell_type": "code",
   "execution_count": 5,
   "id": "5978149b-e7e2-4c30-b702-ef8cdd9704a6",
   "metadata": {},
   "outputs": [],
   "source": [
    "training_set = pd.read_csv('data/rbm/ml-100k/u1.base', delimiter = '\\t')"
   ]
  },
  {
   "cell_type": "code",
   "execution_count": 6,
   "id": "83d54426-7c83-4f94-8ef0-1b4b35ee1a37",
   "metadata": {},
   "outputs": [],
   "source": [
    "training_set = np.array(training_set, dtype = 'int')"
   ]
  },
  {
   "cell_type": "code",
   "execution_count": 7,
   "id": "b456e071-98cf-45d7-8383-f8da73caebe1",
   "metadata": {},
   "outputs": [],
   "source": [
    "test_set = pd.read_csv('data/rbm/ml-100k/u1.test', delimiter = '\\t')"
   ]
  },
  {
   "cell_type": "code",
   "execution_count": 8,
   "id": "0cf84ebc-d90d-4012-a1a7-29b152083555",
   "metadata": {},
   "outputs": [],
   "source": [
    "test_set = np.array(test_set, dtype = 'int')"
   ]
  },
  {
   "cell_type": "markdown",
   "id": "1d03a575-329d-42d8-b7c2-9ea6cfa65e5c",
   "metadata": {},
   "source": [
    "### Getting the number of users and movies"
   ]
  },
  {
   "cell_type": "code",
   "execution_count": 9,
   "id": "f866ef6f-101f-4360-a6fa-c64fa005a34c",
   "metadata": {},
   "outputs": [],
   "source": [
    "# We need to get the largest user id and movie id so it works for training and testing for any of the datasets\n",
    "nb_users = int(max(max(training_set[:,0]), max(test_set[:,0]))) \n",
    "nb_movies = int(max(max(training_set[:,1]), max(test_set[:,1])))"
   ]
  },
  {
   "cell_type": "markdown",
   "id": "37eb5224-9e40-423c-a006-322c0aabc852",
   "metadata": {},
   "source": [
    "### Convert the data into an array with users in rows and movies in columns"
   ]
  },
  {
   "cell_type": "code",
   "execution_count": 10,
   "id": "14f08de9-627d-43aa-afd3-9a48a2d85405",
   "metadata": {},
   "outputs": [],
   "source": [
    "# We will have a list of lists that has every user and every movie so they will always be the same size\n",
    "# Torch expects a list of lists\n",
    "\n",
    "def convert(data):\n",
    "    new_data = []\n",
    "    for id_user in range(1, nb_users + 1):\n",
    "        id_movies = data[:,1][data[:,0] == id_user] # Get all movies\n",
    "        id_ratings = data[:,2][data[:,0] == id_user] # Get all ratings\n",
    "        ratings = np.zeros(nb_movies)\n",
    "        ratings[id_movies - 1] = id_ratings\n",
    "        new_data.append(list(ratings))\n",
    "    return new_data"
   ]
  },
  {
   "cell_type": "code",
   "execution_count": 11,
   "id": "3382dc40-2874-43ff-8ad7-971d8d2e74b7",
   "metadata": {},
   "outputs": [],
   "source": [
    "# Example final state\n",
    "# User 1 - [0,1,1,2]\n",
    "# User 2 - [1,1,0,2]\n",
    "# User 3 - [1,0,0,2]\n",
    "\n",
    "training_set_converted = convert(training_set)\n",
    "test_set_converted = convert(test_set)"
   ]
  },
  {
   "cell_type": "markdown",
   "id": "f722d979-7c32-4ee6-a09f-79848a868b3e",
   "metadata": {},
   "source": [
    "### Converting the data into Torch tensors"
   ]
  },
  {
   "cell_type": "code",
   "execution_count": 12,
   "id": "fb326a07-de53-434e-a305-7fa330d86726",
   "metadata": {},
   "outputs": [],
   "source": [
    "training_set_torch = torch.FloatTensor(training_set_converted) # Expects the list of lists\n",
    "test_set_torch = torch.FloatTensor(test_set_converted)"
   ]
  },
  {
   "cell_type": "markdown",
   "id": "611e4094-b145-4563-8af5-13f2df5525ee",
   "metadata": {},
   "source": [
    "### Converting the ratings in to binary ratings 1 (Liked) or 0 (Not Liked)"
   ]
  },
  {
   "cell_type": "code",
   "execution_count": 13,
   "id": "cb24fb48-1b03-40f9-9940-f4db1b80aed2",
   "metadata": {},
   "outputs": [],
   "source": [
    "training_set_torch[training_set_torch == 0]= -1 # Anything that doesn't have a rating was not reviewed (base) \n",
    "training_set_torch[training_set_torch == 1]= 0\n",
    "training_set_torch[training_set_torch == 2]= 0\n",
    "training_set_torch[training_set_torch >= 3]= 1"
   ]
  },
  {
   "cell_type": "code",
   "execution_count": 14,
   "id": "357bb629-817d-442f-80b9-35aa211652db",
   "metadata": {},
   "outputs": [],
   "source": [
    "test_set_torch[test_set_torch == 0]= -1 # Anything that doesn't have a rating was not reviewed (base) \n",
    "test_set_torch[test_set_torch == 1]= 0\n",
    "test_set_torch[test_set_torch == 2]= 0\n",
    "test_set_torch[test_set_torch >= 3]= 1"
   ]
  },
  {
   "cell_type": "markdown",
   "id": "6c810f24-a62d-41f9-a487-33578dfbf0f3",
   "metadata": {},
   "source": [
    "## Create the Neural Network"
   ]
  },
  {
   "cell_type": "code",
   "execution_count": 15,
   "id": "aac7108c-fed1-4af1-8c33-fa4f3557eb63",
   "metadata": {},
   "outputs": [],
   "source": [
    "class RBM():\n",
    "    def __init__(self, nv, nh): # number of visible and number of hidden nodes\n",
    "        self.W = torch.randn(nv, nh) # initialize the weights        \n",
    "        self.a = torch.randn(1, nh)    # bias\n",
    "        self.b = torch.randn(1, nv)    # batch\n",
    "    def sample_hidden(self, x):\n",
    "        wx = torch.mm(x, self.W) # makes product of 2 torch tensors\n",
    "        activation = wx + self.a.expand_as(wx) # expand the bias (calculates the probability of the cell being acviated\n",
    "        p_h_given_v = torch.sigmoid(activation)\n",
    "        return p_h_given_v, torch.bernoulli(p_h_given_v)\n",
    "    def sample_visible(self, y): \n",
    "        wy = torch.mm(y, self.W.t())\n",
    "        activation = wy + self.b.expand_as(wy)\n",
    "        p_v_given_h = torch.sigmoid(activation)\n",
    "        return p_v_given_h, torch.bernoulli(p_v_given_h)\n",
    "    def train(self, v0, vk, ph0, phk): #v0 is initial vector, vk is visible nodes after k sampling, ph0 is hidden nodes initially, phk is hidden nodes after k sampling\n",
    "        self.W += torch.mm(v0.t(), ph0) - torch.mm(vk.t(), phk)\n",
    "        self.b += torch.sum((v0 - vk), 0)\n",
    "        self.a += torch.sum((ph0 - phk), 0)       "
   ]
  },
  {
   "cell_type": "code",
   "execution_count": 16,
   "id": "f6245a39-cb31-48dc-8f5f-1d2f6ebcdf40",
   "metadata": {},
   "outputs": [],
   "source": [
    "nv = len(training_set_torch[0])\n",
    "nh = 100 # Trying for 100 features, this can be experimented with\n",
    "batch_size = 100\n",
    "\n",
    "rbm = RBM(nv, nh)"
   ]
  },
  {
   "cell_type": "markdown",
   "id": "e6b780e6-d07a-47f5-a89b-b4b108c38ebb",
   "metadata": {},
   "source": [
    "## Training the RBM"
   ]
  },
  {
   "cell_type": "code",
   "execution_count": 17,
   "id": "b42f94eb-8f87-4e88-b9f2-e72ec5699e45",
   "metadata": {},
   "outputs": [
    {
     "name": "stdout",
     "output_type": "stream",
     "text": [
      "epoch: 1 loss: tensor(0.3548)\n",
      "epoch: 2 loss: tensor(0.2455)\n",
      "epoch: 3 loss: tensor(0.2511)\n",
      "epoch: 4 loss: tensor(0.2507)\n",
      "epoch: 5 loss: tensor(0.2472)\n",
      "epoch: 6 loss: tensor(0.2539)\n",
      "epoch: 7 loss: tensor(0.2442)\n",
      "epoch: 8 loss: tensor(0.2495)\n",
      "epoch: 9 loss: tensor(0.2487)\n",
      "epoch: 10 loss: tensor(0.2484)\n",
      "epoch: 11 loss: tensor(0.2478)\n"
     ]
    }
   ],
   "source": [
    "nb_epoch = 100\n",
    "#for epoch in range(1, nb_epoch + 1):\n",
    "epoch = 0\n",
    "history = []\n",
    "\n",
    "# To find when the loss function plateaus\n",
    "def is_plateauing(y_values, threshold=0.01, window=5, min_values=10): \n",
    "    if len(y_values) > min_values:\n",
    "        diffs = np.diff(y_values)  # First derivative\n",
    "        recent_diffs = diffs[-window:]  # Last 'window' slopes\n",
    "        return np.all(np.abs(recent_diffs) < threshold)\n",
    "    else:\n",
    "        return False\n",
    "\n",
    "while is_plateauing(history) is False: \n",
    "    epoch += 1\n",
    "    train_loss = 0\n",
    "    s = 0.\n",
    "    for id_user in range(0, nb_users - batch_size, batch_size):\n",
    "        vk = training_set_torch[id_user:id_user+batch_size]\n",
    "        v0 = training_set_torch[id_user:id_user+batch_size]\n",
    "        ph0,_ = rbm.sample_hidden(v0)\n",
    "        for k in range(10):\n",
    "            _, hk = rbm.sample_hidden(vk)\n",
    "            _, vk = rbm.sample_visible(hk)\n",
    "            vk[v0 < 0] = v0[v0 < 0] # make sure empty ratings remain -1\n",
    "        phk,_ = rbm.sample_hidden(vk)\n",
    "        rbm.train(v0, vk, ph0, phk)\n",
    "        train_loss += torch.mean(torch.abs(v0[v0 >= 0] - vk[v0 >= 0]))\n",
    "        s += 1.\n",
    "\n",
    "    history.append(train_loss/s)\n",
    "    print('epoch: ' + str(epoch) + ' loss: ' + str(train_loss/s))\n",
    "    \n",
    "    \n",
    "        "
   ]
  },
  {
   "cell_type": "markdown",
   "id": "2c32eb68-d4f1-480b-b886-af613583fcbe",
   "metadata": {},
   "source": [
    "## Testing the RBM"
   ]
  },
  {
   "cell_type": "code",
   "execution_count": 18,
   "id": "d33cdfdd-7169-44a7-9718-c704962645af",
   "metadata": {},
   "outputs": [
    {
     "name": "stdout",
     "output_type": "stream",
     "text": [
      "accuracy: tensor(73.8039)%\n"
     ]
    }
   ],
   "source": [
    "test_loss = 0\n",
    "s = 0.\n",
    "for id_user in range(nb_users):\n",
    "    v = training_set_torch[id_user:id_user+1] # 1 since doing one user at a time... remains training to activate the neurons for the test set\n",
    "    vt = test_set_torch[id_user:id_user+1]\n",
    "    if len(vt[vt>=0]) > 0:\n",
    "        _, h = rbm.sample_hidden(v)\n",
    "        _, v = rbm.sample_visible(h)            \n",
    "        test_loss += torch.mean(torch.abs(vt[vt >= 0] - v[vt >= 0]))\n",
    "        s += 1.\n",
    "print('accuracy: ' + str((1-test_loss/s)*100) + \"%\")\n",
    "\n",
    "    "
   ]
  },
  {
   "cell_type": "code",
   "execution_count": null,
   "id": "7460258b-d984-4fe3-9e39-77ac50489b49",
   "metadata": {},
   "outputs": [],
   "source": []
  }
 ],
 "metadata": {
  "kernelspec": {
   "display_name": "Python 3 (ipykernel)",
   "language": "python",
   "name": "python3"
  },
  "language_info": {
   "codemirror_mode": {
    "name": "ipython",
    "version": 3
   },
   "file_extension": ".py",
   "mimetype": "text/x-python",
   "name": "python",
   "nbconvert_exporter": "python",
   "pygments_lexer": "ipython3",
   "version": "3.10.12"
  }
 },
 "nbformat": 4,
 "nbformat_minor": 5
}
