{
 "cells": [
  {
   "cell_type": "markdown",
   "id": "0b38c89b-1a7e-4420-9a2f-675270230392",
   "metadata": {},
   "source": [
    "# AutoEncoders"
   ]
  },
  {
   "cell_type": "markdown",
   "id": "fdfd3c93-e04e-46aa-974e-1ccc480ea9b1",
   "metadata": {},
   "source": [
    "### Importing the Libraries"
   ]
  },
  {
   "cell_type": "code",
   "execution_count": 1,
   "id": "3c6ee890-f28b-486a-b1ed-f4af01942a18",
   "metadata": {},
   "outputs": [],
   "source": [
    "import numpy as np\n",
    "import pandas as pd\n",
    "import torch \n",
    "import torch.nn as nn\n",
    "import torch.nn.parallel\n",
    "import torch.optim as optim\n",
    "import torch.utils.data\n",
    "from torch.autograd import Variable # for stochastic gradient decent"
   ]
  },
  {
   "cell_type": "markdown",
   "id": "af3b95b6-296f-4ea9-89a2-b36daf130dd3",
   "metadata": {},
   "source": [
    "### Importing the dataset"
   ]
  },
  {
   "cell_type": "code",
   "execution_count": 2,
   "id": "d4ba46a1-1e08-4ed1-b7d4-8242e277f9b6",
   "metadata": {},
   "outputs": [],
   "source": [
    "# Using same dataset as boltzmann.ipynb\n",
    "\n",
    "movies = pd.read_csv('data/rbm/ml-1m/movies.dat', sep = '::', header = None, engine = 'python', encoding = 'latin-1') # :: is the separator in the file\n",
    "users = pd.read_csv('data/rbm/ml-1m/users.dat', sep = '::', header = None, engine = 'python', encoding = 'latin-1') # :: is the separator in the file\n",
    "ratings = pd.read_csv('data/rbm/ml-1m/ratings.dat', sep = '::', header = None, engine = 'python', encoding = 'latin-1')"
   ]
  },
  {
   "cell_type": "markdown",
   "id": "1a372480-39d0-4ecf-b9a1-e3f548474a00",
   "metadata": {},
   "source": [
    "### Create the training and test sets"
   ]
  },
  {
   "cell_type": "code",
   "execution_count": 3,
   "id": "2a748ea6-3f42-4482-8272-becccdc648e6",
   "metadata": {},
   "outputs": [],
   "source": [
    "training_set = pd.read_csv('data/rbm/ml-100k/u1.base', delimiter = '\\t')\n",
    "training_set = np.array(training_set, dtype = 'int')\n",
    "test_set = pd.read_csv('data/rbm/ml-100k/u1.test', delimiter = '\\t')\n",
    "test_set = np.array(test_set, dtype = 'int')"
   ]
  },
  {
   "cell_type": "markdown",
   "id": "780d38f0-add9-4a1e-aa1f-9628d32da10d",
   "metadata": {},
   "source": [
    "### Getting the number of users and movies"
   ]
  },
  {
   "cell_type": "code",
   "execution_count": 4,
   "id": "56b9172a-caf8-4b4a-8535-01ed49da9045",
   "metadata": {},
   "outputs": [],
   "source": [
    "# We need to get the largest user id and movie id so it works for training and testing for any of the datasets\n",
    "nb_users = int(max(max(training_set[:,0]), max(test_set[:,0]))) \n",
    "nb_movies = int(max(max(training_set[:,1]), max(test_set[:,1])))"
   ]
  },
  {
   "cell_type": "markdown",
   "id": "85d1da67-4f2b-48d2-a76a-1da390f21951",
   "metadata": {},
   "source": [
    "### Convert the data into an array with users in rows and movies in columns"
   ]
  },
  {
   "cell_type": "code",
   "execution_count": 5,
   "id": "346f87a3-ad31-4af5-bc1f-7e65a587012b",
   "metadata": {},
   "outputs": [],
   "source": [
    "# We will have a list of lists that has every user and every movie so they will always be the same size\n",
    "# Torch expects a list of lists\n",
    "\n",
    "def convert(data):\n",
    "    new_data = []\n",
    "    for id_user in range(1, nb_users + 1):\n",
    "        id_movies = data[:,1][data[:,0] == id_user] # Get all movies\n",
    "        id_ratings = data[:,2][data[:,0] == id_user] # Get all ratings\n",
    "        ratings = np.zeros(nb_movies)\n",
    "        ratings[id_movies - 1] = id_ratings\n",
    "        new_data.append(list(ratings))\n",
    "    return new_data"
   ]
  },
  {
   "cell_type": "code",
   "execution_count": 6,
   "id": "6c755661-729c-48b2-8f3d-3fa160e2e50a",
   "metadata": {},
   "outputs": [],
   "source": [
    "# Example final state\n",
    "# User 1 - [0,1,1,2]\n",
    "# User 2 - [1,1,0,2]\n",
    "# User 3 - [1,0,0,2]\n",
    "\n",
    "training_set_converted = convert(training_set)\n",
    "test_set_converted = convert(test_set)"
   ]
  },
  {
   "cell_type": "markdown",
   "id": "4993e28f-d170-482e-8dd6-e931fdbd2d3d",
   "metadata": {},
   "source": [
    "### Converting the data into Torch tensors"
   ]
  },
  {
   "cell_type": "code",
   "execution_count": 7,
   "id": "01c2e8ca-5d7e-430c-a4de-17e37ec65312",
   "metadata": {},
   "outputs": [],
   "source": [
    "training_set_torch = torch.FloatTensor(training_set_converted) # Expects the list of lists\n",
    "test_set_torch = torch.FloatTensor(test_set_converted)"
   ]
  },
  {
   "cell_type": "markdown",
   "id": "bdf3d678-5d44-4b14-bc97-5f79755cd530",
   "metadata": {},
   "source": [
    "### Creating the architecture of the Neural Network"
   ]
  },
  {
   "cell_type": "code",
   "execution_count": 33,
   "id": "f914807c-56d3-46f4-8317-6f6b064dca2a",
   "metadata": {},
   "outputs": [],
   "source": [
    "# Stacked AutoEncoder class\n",
    "class SAE(nn.Module): \n",
    "    def __init__(self):\n",
    "        super(SAE, self).__init__() # Gets all the inherited classes from nn.Module\n",
    "        self.fc1 = nn.Linear(nb_movies, 20) # First full connection\n",
    "        self.fc2 = nn.Linear(20, 10) # 20 input and 10 in current layer\n",
    "        self.fc3 = nn.Linear(10, 20) # final layer 10 in and 20 out\n",
    "        self.fc4 = nn.Linear(20, nb_movies)\n",
    "        self.activation = nn.Sigmoid()\n",
    "        self.middle_activation = nn.ReLU()\n",
    "    def forward(self, x): # x is input vector\n",
    "        x = self.activation(self.fc1(x))\n",
    "        x = self.activation(self.fc2(x))\n",
    "        x = self.activation(self.fc3(x))\n",
    "        x = self.fc4(x)\n",
    "        return x\n",
    "    "
   ]
  },
  {
   "cell_type": "code",
   "execution_count": 34,
   "id": "c7afa742-91fc-416f-bddd-47cfa27e235b",
   "metadata": {},
   "outputs": [],
   "source": [
    "sae = SAE() # No need to incorporate arguments, they are all training\n",
    "criterion  = nn.MSELoss()\n",
    "optimizer = optim.RMSprop(sae.parameters(), lr=0.01, weight_decay=0.5) # LR and learning weighss\n",
    "\n"
   ]
  },
  {
   "cell_type": "markdown",
   "id": "3b77254f-1332-4adb-bd6c-70e3c1b5fa10",
   "metadata": {},
   "source": [
    "### Training the SAE"
   ]
  },
  {
   "cell_type": "code",
   "execution_count": 35,
   "id": "bd3171c4-2f96-40bc-afcd-220afbfca0f0",
   "metadata": {},
   "outputs": [
    {
     "name": "stdout",
     "output_type": "stream",
     "text": [
      "epoch: 1 loss: 1.7709465313485453\n",
      "epoch: 2 loss: 1.096653913269114\n",
      "epoch: 3 loss: 1.053416851111914\n",
      "epoch: 4 loss: 1.0383075805967934\n",
      "epoch: 5 loss: 1.0307350394471906\n",
      "epoch: 6 loss: 1.0267263880409452\n",
      "epoch: 7 loss: 1.0238254320756048\n",
      "epoch: 8 loss: 1.0219327236564144\n",
      "epoch: 9 loss: 1.0207599870567021\n",
      "epoch: 10 loss: 1.0196084696846628\n",
      "epoch: 11 loss: 1.0189396450635617\n",
      "epoch: 12 loss: 1.018377518832397\n",
      "epoch: 13 loss: 1.018229079021296\n",
      "epoch: 14 loss: 1.0173168366011036\n",
      "epoch: 15 loss: 1.0171252985512569\n",
      "epoch: 16 loss: 1.016852010576024\n",
      "epoch: 17 loss: 1.0166340912902576\n",
      "epoch: 18 loss: 1.0166775080611203\n",
      "epoch: 19 loss: 1.0164989148583898\n",
      "epoch: 20 loss: 1.016070933329149\n",
      "epoch: 21 loss: 1.0159080950827064\n",
      "epoch: 22 loss: 1.0161957175959226\n",
      "epoch: 23 loss: 1.0155785427527704\n",
      "epoch: 24 loss: 1.0157936661687794\n",
      "epoch: 25 loss: 1.0156699656704469\n",
      "epoch: 26 loss: 1.0155927680500103\n",
      "epoch: 27 loss: 1.0152816137363398\n",
      "epoch: 28 loss: 1.0151378054854858\n",
      "epoch: 29 loss: 1.0130887193310119\n",
      "epoch: 30 loss: 1.0119228786243055\n",
      "epoch: 31 loss: 1.0094293437425608\n",
      "epoch: 32 loss: 1.0090775789222004\n",
      "epoch: 33 loss: 1.0048645377749008\n",
      "epoch: 34 loss: 1.0046302174768933\n",
      "epoch: 35 loss: 1.0011783431007257\n",
      "epoch: 36 loss: 0.9990016839240994\n",
      "epoch: 37 loss: 0.9970652912582525\n",
      "epoch: 38 loss: 0.9949873171681802\n",
      "epoch: 39 loss: 0.9928915633320493\n",
      "epoch: 40 loss: 0.9922614649958474\n",
      "epoch: 41 loss: 0.9897139872423969\n",
      "epoch: 42 loss: 0.9905018583031793\n",
      "epoch: 43 loss: 0.9868453236465692\n",
      "epoch: 44 loss: 0.9871716001278573\n",
      "epoch: 45 loss: 0.9787238276777148\n",
      "epoch: 46 loss: 0.9808479641544102\n",
      "epoch: 47 loss: 0.9790252195507376\n",
      "epoch: 48 loss: 0.9812975452502127\n",
      "epoch: 49 loss: 0.982147240052505\n",
      "epoch: 50 loss: 0.9794050222725172\n",
      "epoch: 51 loss: 0.9772344999311802\n",
      "epoch: 52 loss: 0.9764004491619785\n",
      "epoch: 53 loss: 0.9742284950379673\n",
      "epoch: 54 loss: 0.9698253426052988\n",
      "epoch: 55 loss: 0.9680424274475263\n",
      "epoch: 56 loss: 0.9702764501628912\n",
      "epoch: 57 loss: 0.9654076615661029\n",
      "epoch: 58 loss: 0.967522384102757\n",
      "epoch: 59 loss: 0.9664900070292901\n",
      "epoch: 60 loss: 0.9665719915937135\n",
      "epoch: 61 loss: 0.9608591492288096\n",
      "epoch: 62 loss: 0.960656737608217\n",
      "epoch: 63 loss: 0.9583142373479706\n",
      "epoch: 64 loss: 0.9587539518474956\n",
      "epoch: 65 loss: 0.9554515733990675\n",
      "epoch: 66 loss: 0.9564176337647537\n",
      "epoch: 67 loss: 0.9518115615108318\n",
      "epoch: 68 loss: 0.9522342952610676\n",
      "epoch: 69 loss: 0.9517497932309577\n",
      "epoch: 70 loss: 0.9510649490244536\n",
      "epoch: 71 loss: 0.9500070616595437\n",
      "epoch: 72 loss: 0.9474312501008051\n",
      "epoch: 73 loss: 0.9476640215876151\n",
      "epoch: 74 loss: 0.9472198048753393\n",
      "epoch: 75 loss: 0.9455556491848313\n",
      "epoch: 76 loss: 0.9449773782265307\n",
      "epoch: 77 loss: 0.9440755198982126\n",
      "epoch: 78 loss: 0.9438535973734682\n",
      "epoch: 79 loss: 0.9427403638218603\n",
      "epoch: 80 loss: 0.942946469635912\n",
      "epoch: 81 loss: 0.9412716055341428\n",
      "epoch: 82 loss: 0.9413451677290283\n",
      "epoch: 83 loss: 0.9395731670594429\n",
      "epoch: 84 loss: 0.9419410047975556\n",
      "epoch: 85 loss: 0.9389417940865113\n",
      "epoch: 86 loss: 0.9396228168199825\n",
      "epoch: 87 loss: 0.9383545770572889\n",
      "epoch: 88 loss: 0.9378416936287927\n",
      "epoch: 89 loss: 0.9374010828297203\n",
      "epoch: 90 loss: 0.9376220268839827\n",
      "epoch: 91 loss: 0.9363298557582928\n",
      "epoch: 92 loss: 0.9373442718233315\n",
      "epoch: 93 loss: 0.9358973405788649\n",
      "epoch: 94 loss: 0.9355291319786445\n",
      "epoch: 95 loss: 0.9347510259436899\n",
      "epoch: 96 loss: 0.9348934251573815\n",
      "epoch: 97 loss: 0.9345339610099594\n",
      "epoch: 98 loss: 0.9347505469761257\n",
      "epoch: 99 loss: 0.9335396713438063\n",
      "epoch: 100 loss: 0.934296560825449\n",
      "epoch: 101 loss: 0.9333358976035341\n",
      "epoch: 102 loss: 0.9327984531599988\n",
      "epoch: 103 loss: 0.9323938624939374\n",
      "epoch: 104 loss: 0.9323287844881316\n",
      "epoch: 105 loss: 0.9318556620278007\n",
      "epoch: 106 loss: 0.9317683030193692\n",
      "epoch: 107 loss: 0.9309257566515936\n",
      "epoch: 108 loss: 0.9315112805006447\n",
      "epoch: 109 loss: 0.9301760359661075\n",
      "epoch: 110 loss: 0.9306430390015554\n",
      "epoch: 111 loss: 0.9298304347919911\n",
      "epoch: 112 loss: 0.9303087628765822\n",
      "epoch: 113 loss: 0.9289367515151656\n",
      "epoch: 114 loss: 0.9292720323466043\n",
      "epoch: 115 loss: 0.9283412915407342\n",
      "epoch: 116 loss: 0.9287653989104202\n",
      "epoch: 117 loss: 0.9276675211948261\n",
      "epoch: 118 loss: 0.9282235763462818\n",
      "epoch: 119 loss: 0.927167409195783\n",
      "epoch: 120 loss: 0.9273003570438649\n",
      "epoch: 121 loss: 0.9265244459150815\n",
      "epoch: 122 loss: 0.927310319531208\n",
      "epoch: 123 loss: 0.9261987409308389\n",
      "epoch: 124 loss: 0.9265793144604866\n",
      "epoch: 125 loss: 0.9252204486675272\n",
      "epoch: 126 loss: 0.9259766459102036\n",
      "epoch: 127 loss: 0.9249604738036744\n",
      "epoch: 128 loss: 0.925725008833693\n",
      "epoch: 129 loss: 0.9245320524775625\n",
      "epoch: 130 loss: 0.9250816642110783\n",
      "epoch: 131 loss: 0.9237999477746712\n",
      "epoch: 132 loss: 0.9244990752433895\n",
      "epoch: 133 loss: 0.9231462948702422\n",
      "epoch: 134 loss: 0.9237616432908919\n",
      "epoch: 135 loss: 0.9226556745207163\n",
      "epoch: 136 loss: 0.9233947284755661\n",
      "epoch: 137 loss: 0.9222618226551966\n",
      "epoch: 138 loss: 0.92319448591415\n",
      "epoch: 139 loss: 0.921798836452228\n",
      "epoch: 140 loss: 0.9226717954073075\n",
      "epoch: 141 loss: 0.921050415822047\n",
      "epoch: 142 loss: 0.9214154708699221\n",
      "epoch: 143 loss: 0.920750659337555\n",
      "epoch: 144 loss: 0.921661690395124\n",
      "epoch: 145 loss: 0.9203152249611225\n",
      "epoch: 146 loss: 0.9212940205142768\n",
      "epoch: 147 loss: 0.919805751721064\n",
      "epoch: 148 loss: 0.9205333962960648\n",
      "epoch: 149 loss: 0.9194167072375825\n",
      "epoch: 150 loss: 0.9201365262251654\n",
      "epoch: 151 loss: 0.9187728470399604\n",
      "epoch: 152 loss: 0.9196572567037632\n",
      "epoch: 153 loss: 0.9186318771148997\n",
      "epoch: 154 loss: 0.9194833857297315\n",
      "epoch: 155 loss: 0.9181767555670453\n",
      "epoch: 156 loss: 0.9186936076713659\n",
      "epoch: 157 loss: 0.917983610711305\n",
      "epoch: 158 loss: 0.9185294128477953\n",
      "epoch: 159 loss: 0.9177681501597834\n",
      "epoch: 160 loss: 0.9180537019330898\n",
      "epoch: 161 loss: 0.9173893404326315\n",
      "epoch: 162 loss: 0.9177951593433608\n",
      "epoch: 163 loss: 0.9170318586934527\n",
      "epoch: 164 loss: 0.9170116877240363\n",
      "epoch: 165 loss: 0.9164640382151253\n",
      "epoch: 166 loss: 0.9170742941140494\n",
      "epoch: 167 loss: 0.916577721041008\n",
      "epoch: 168 loss: 0.91698411604015\n",
      "epoch: 169 loss: 0.9159785721916456\n",
      "epoch: 170 loss: 0.9166663059847778\n",
      "epoch: 171 loss: 0.915786248229183\n",
      "epoch: 172 loss: 0.916095779605984\n",
      "epoch: 173 loss: 0.9154774680016275\n",
      "epoch: 174 loss: 0.9160791440443095\n",
      "epoch: 175 loss: 0.9152332087491017\n",
      "epoch: 176 loss: 0.9155169578837928\n",
      "epoch: 177 loss: 0.9147118706588161\n",
      "epoch: 178 loss: 0.9152060079029184\n",
      "epoch: 179 loss: 0.9145644256659637\n",
      "epoch: 180 loss: 0.9151431910000726\n",
      "epoch: 181 loss: 0.9144016916022416\n",
      "epoch: 182 loss: 0.9147546039887684\n",
      "epoch: 183 loss: 0.9141171769768014\n",
      "epoch: 184 loss: 0.9144728356509938\n",
      "epoch: 185 loss: 0.9137943230908788\n",
      "epoch: 186 loss: 0.9141881640549113\n",
      "epoch: 187 loss: 0.9136118995184017\n",
      "epoch: 188 loss: 0.9137214417833371\n",
      "epoch: 189 loss: 0.9133355393488024\n",
      "epoch: 190 loss: 0.9136365898434832\n",
      "epoch: 191 loss: 0.9132048440480279\n",
      "epoch: 192 loss: 0.9134034781941257\n",
      "epoch: 193 loss: 0.9127837715609167\n",
      "epoch: 194 loss: 0.9128155582949461\n",
      "epoch: 195 loss: 0.9124512434903075\n",
      "epoch: 196 loss: 0.9127622258209985\n",
      "epoch: 197 loss: 0.9125698611922415\n",
      "epoch: 198 loss: 0.9125753341587638\n",
      "epoch: 199 loss: 0.9121118973581952\n",
      "epoch: 200 loss: 0.9124784810425658\n"
     ]
    }
   ],
   "source": [
    "nb_epoch = 200\n",
    "for epoch in range(1, nb_epoch + 1):\n",
    "    train_loss = 0\n",
    "    s = 0. # Counts the number of users that rated at least one movie (since RMSE needs a float, this is a float)\n",
    "    for id_user in range(nb_users):\n",
    "        input = Variable(training_set_torch[id_user]).unsqueeze(0)  # need to add a fake dimension since it needs more than a vector, this creates a batch of one input vector\n",
    "        target = input.clone() # both start the same\n",
    "\n",
    "        # Save memory\n",
    "        if torch.sum(target.data > 0) > 0: # If so there is at least one observation greater than 0\n",
    "            output = sae(input)\n",
    "            target.require_grad = False # don't compute a gradient with respect to the target\n",
    "            output[target == 0] = 0 # skip any movies not rated\n",
    "            loss = criterion(output, target)\n",
    "            mean_corrector = nb_movies/float(torch.sum(target.data > 0) + 1e-10) # the last bit just makes sure the denominator is not null (small enough not biasing)\n",
    "            loss.backward() # backward method\n",
    "            train_loss += np.sqrt(loss.item()*mean_corrector) # getting the RMSE\n",
    "            s += 1.\n",
    "            optimizer.step()\n",
    "    print('epoch: ' + str(epoch) + ' loss: ' + str(train_loss/s))\n",
    "    "
   ]
  },
  {
   "cell_type": "markdown",
   "id": "749411cc-798c-4b7c-ae1c-12d7c0f93202",
   "metadata": {},
   "source": [
    "### Testing the Stacked AutoEncoder (SAE)"
   ]
  },
  {
   "cell_type": "code",
   "execution_count": 36,
   "id": "8a1728ed-dd1b-401e-936d-4c1ecadf5e8d",
   "metadata": {},
   "outputs": [
    {
     "name": "stdout",
     "output_type": "stream",
     "text": [
      "test loss: 0.951293135435618\n"
     ]
    }
   ],
   "source": [
    "test_loss = 0\n",
    "s = 0. \n",
    "for id_user in range(nb_users):\n",
    "    input = Variable(training_set_torch[id_user]).unsqueeze(0) # Need this to still be training since we use a user's input to predict\n",
    "    target = Variable(test_set_torch[id_user]).unsqueeze(0) # This is the \"future\" truth that is created once the user has watched the movies \n",
    "    \n",
    "    if torch.sum(target.data > 0) > 0: \n",
    "        output = sae(input)\n",
    "        target.require_grad = False \n",
    "        output[target == 0] = 0 \n",
    "        loss = criterion(output, target) # This compares the input to output\n",
    "        mean_corrector = nb_movies/float(torch.sum(target.data > 0) + 1e-10)             \n",
    "        test_loss += np.sqrt(loss.item()*mean_corrector)\n",
    "        s += 1.            \n",
    "print('test loss: ' + str(test_loss/s))"
   ]
  },
  {
   "cell_type": "code",
   "execution_count": 37,
   "id": "e6bc56b1-4623-419e-b80e-6ac0011ad20d",
   "metadata": {},
   "outputs": [],
   "source": [
    "# test loss: 0.9584480307484321 this means it is off by just than less than 1 star\n",
    "# Out of the box value"
   ]
  },
  {
   "cell_type": "code",
   "execution_count": null,
   "id": "124e4c74-abb1-4cd9-bd51-a1eeac919e8b",
   "metadata": {},
   "outputs": [],
   "source": []
  }
 ],
 "metadata": {
  "kernelspec": {
   "display_name": "Python 3 (ipykernel)",
   "language": "python",
   "name": "python3"
  },
  "language_info": {
   "codemirror_mode": {
    "name": "ipython",
    "version": 3
   },
   "file_extension": ".py",
   "mimetype": "text/x-python",
   "name": "python",
   "nbconvert_exporter": "python",
   "pygments_lexer": "ipython3",
   "version": "3.10.12"
  }
 },
 "nbformat": 4,
 "nbformat_minor": 5
}
