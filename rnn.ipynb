{
 "cells": [
  {
   "cell_type": "code",
   "execution_count": 1,
   "id": "15c6354c-7986-45e7-a182-eeb3150cfd2c",
   "metadata": {},
   "outputs": [],
   "source": [
    "# LSTM (long short term memory) helps with vanishing gradiant problem (just a note)"
   ]
  },
  {
   "cell_type": "code",
   "execution_count": null,
   "id": "3d4feac3-451d-4077-bae7-e99a339e937b",
   "metadata": {},
   "outputs": [],
   "source": []
  }
 ],
 "metadata": {
  "kernelspec": {
   "display_name": "Python 3 (ipykernel)",
   "language": "python",
   "name": "python3"
  },
  "language_info": {
   "codemirror_mode": {
    "name": "ipython",
    "version": 3
   },
   "file_extension": ".py",
   "mimetype": "text/x-python",
   "name": "python",
   "nbconvert_exporter": "python",
   "pygments_lexer": "ipython3",
   "version": "3.10.12"
  }
 },
 "nbformat": 4,
 "nbformat_minor": 5
}
